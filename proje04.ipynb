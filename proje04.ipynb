{
  "nbformat": 4,
  "nbformat_minor": 0,
  "metadata": {
    "colab": {
      "name": "proje04.ipynb",
      "provenance": [],
      "authorship_tag": "ABX9TyPsnNKHtgiHBKbROFrQku1W",
      "include_colab_link": true
    },
    "kernelspec": {
      "name": "python3",
      "display_name": "Python 3"
    },
    "language_info": {
      "name": "python"
    }
  },
  "cells": [
    {
      "cell_type": "markdown",
      "metadata": {
        "id": "view-in-github",
        "colab_type": "text"
      },
      "source": [
        "<a href=\"https://colab.research.google.com/github/Onurbeyy76/hu-bby162-2022/blob/main/proje04.ipynb\" target=\"_parent\"><img src=\"https://colab.research.google.com/assets/colab-badge.svg\" alt=\"Open In Colab\"/></a>"
      ]
    },
    {
      "cell_type": "code",
      "source": [
        "from google.colab import drive\n",
        "drive.mount('/content/drive')\n",
        "\n",
        "dosyaYolu = \"/content/drive/MyDrive/Colab Notebooks/Veritabanı.txt adlı not defterinin kopyası\"\n",
        "kütüphane = []\n",
        "def kütüphaneGöster():\n",
        "  dosya = open(dosyaYolu,\"r\")\n",
        "  for line in dosya.readlines():\n",
        "    print(line)\n",
        "  dosya.close()\n",
        "\n",
        "def kütüphaneKayıt():\n",
        "  kitapAd =input(\"Kitap adı giriniz: \")\n",
        "  kitapYazar =input(\"Kitabın yazarını giriniz: \")\n",
        "  kitapYıl =input(\"Kitabın basım yılını giriniz: \")\n",
        "  kitapYayın =input(\"Kitabın yayınevini giriniz: \")\n",
        "  dosya = open(dosyaYolu,\"a\")\n",
        "  dosya.write(kitapAd + \" , \"+ kitapYazar + \" , \" + kitapYıl + \" , \"+ kitapYayın +\"\\n\")\n",
        "  print(\"Kitap kaydı oluşturuldu.\")\n",
        "  dosya.close()\n",
        "def kitapAra():\n",
        "  ara = input(\"Aradığınız kitabın adını giriniz: \")\n",
        "  for kitap in kütüphane:\n",
        "    if ara in kitap:\n",
        "      print(\"Kitap kütüphanede bulunmaktadır.\")\n",
        "    else:\n",
        "      print(\"Kitap kütüphanede bulunmamaktadır.\")\n",
        "def menu():\n",
        "  while True:\n",
        "    print(\"\\nKütüphane sistemine hoşgeldiniz.\")\n",
        "    secim = input(\"\\nYapmak istediğiniz işlem nedir? \\n 1)Kitap gör \\n 2)Yeni  kitap kayıt ekle \\n 3)Kitap kayıt ara \\n 4)Çıkış yap \\n\")\n",
        "    if secim == \"1\":\n",
        "      kütüphaneGöster()\n",
        "    elif secim == \"2\":\n",
        "      kütüphaneKayıt()\n",
        "    elif secim == \"3\":\n",
        "      kitapAra()\n",
        "    elif secim == \"4\":\n",
        "      print(\"\\nKütüphane sisteminden çıkış yapıldı.\")\n",
        "      break\n",
        "    break\n",
        "menu()"
      ],
      "metadata": {
        "colab": {
          "base_uri": "https://localhost:8080/"
        },
        "id": "cZVSMlRGzJZl",
        "outputId": "f37abf70-5161-4ec3-9d8b-a973947cb522"
      },
      "execution_count": null,
      "outputs": [
        {
          "name": "stdout",
          "output_type": "stream",
          "text": [
            "Drive already mounted at /content/drive; to attempt to forcibly remount, call drive.mount(\"/content/drive\", force_remount=True).\n",
            "\n",
            "Kütüphane sistemine hoşgeldiniz.\n",
            "\n",
            "Yapmak istediğiniz işlem nedir? \n",
            " 1)Kitap gör \n",
            " 2)Yeni  kitap kayıt ekle \n",
            " 3)Kitap kayıt ara \n",
            " 4)Çıkış yap \n",
            "3\n",
            "Aradığınız kitabın adını giriniz: Teneke\n"
          ]
        }
      ]
    }
  ]
}