{
  "nbformat": 4,
  "nbformat_minor": 0,
  "metadata": {
    "colab": {
      "name": "proje03.ipynb",
      "provenance": [],
      "authorship_tag": "ABX9TyOgLpajof3qm/FrnB9lbm14",
      "include_colab_link": true
    },
    "kernelspec": {
      "name": "python3",
      "display_name": "Python 3"
    },
    "language_info": {
      "name": "python"
    }
  },
  "cells": [
    {
      "cell_type": "markdown",
      "metadata": {
        "id": "view-in-github",
        "colab_type": "text"
      },
      "source": [
        "<a href=\"https://colab.research.google.com/github/Onurbeyy76/hu-bby-162-2022/blob/main/proje03.ipynb\" target=\"_parent\"><img src=\"https://colab.research.google.com/assets/colab-badge.svg\" alt=\"Open In Colab\"/></a>"
      ]
    },
    {
      "cell_type": "code",
      "source": [
        "print(\"hayat sınavı\")\n",
        "print(\"sorulara o veya i deyiniz.\")\n",
        "\n",
        "sorular = [\"şampiyon fb?\",\"dünyadaki amaç? \",\"Uzayda yaşam var mı\",\"kimsiniz?\",\"öğrenci misin?\"]\n",
        "cevaplar = [\"o\",\"o\",\"i\",\"i\",\"i\"]\n",
        " \n",
        "def testCalistir():\n",
        "  soruNo = 0\n",
        "  cevapNo = 0\n",
        "  puan = 0\n",
        "  for soru in sorular:\n",
        "    soruNo +=1\n",
        "    print(\"Soru \" + str(soruNo) +\": \" + soru)\n",
        "    cevap = input(\"YES/NO\")\n",
        "    if cevap == cevaplar[cevapNo]:\n",
        "      print(\"cevabınız doğru!\")\n",
        "      puan +=1\n",
        "    else:\n",
        "      print(\"cevabınız yanlış!\")\n",
        "    cevapNo +=1\n",
        "  toplamPuan = int((puan/soruNo)*100)\n",
        "  print(\"Toplam puanınız: \" + str(toplamPuan))    \n",
        "  if toplamPuan >= 60:\n",
        "    print(\"bravo 👏\")\n",
        "  else:\n",
        "    print(\"güzel deneme bir daha\")\n",
        "    tekrar = input(\"Tekrar denemek ister misiniz? [evet/hayır]: \")\n",
        "    if tekrar == \"evet\":\n",
        "      testCalistir()\n",
        "    else:\n",
        "      print(\"Testin sonuna geldiniz.\")  \n",
        "  \n",
        "testCalistir()"
      ],
      "metadata": {
        "colab": {
          "base_uri": "https://localhost:8080/"
        },
        "id": "GJtzkj7gJ2z-",
        "outputId": "9c3cdd09-68b2-4907-d1b7-e8caa5af83b0"
      },
      "execution_count": null,
      "outputs": [
        {
          "name": "stdout",
          "output_type": "stream",
          "text": [
            "hayat sınavı\n",
            "sorulara o veya i deyiniz.\n",
            "Soru 1: şampiyon fb?\n",
            "YES/NOO\n"
          ]
        }
      ]
    }
  ]
}